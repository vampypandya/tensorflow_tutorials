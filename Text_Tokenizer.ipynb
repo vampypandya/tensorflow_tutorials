{
 "cells": [
  {
   "cell_type": "code",
   "execution_count": 15,
   "metadata": {
    "collapsed": true
   },
   "outputs": [],
   "source": [
    "import tensorflow as tf\n",
    "import numpy as np"
   ]
  },
  {
   "cell_type": "code",
   "execution_count": 56,
   "metadata": {},
   "outputs": [
    {
     "name": "stdout",
     "output_type": "stream",
     "text": [
      "None\n"
     ]
    }
   ],
   "source": [
    "with open(\"data.txt\") as data:\n",
    "    for line in data:\n",
    "        token = tf.contrib.keras.preprocessing.text.Tokenizer(num_words=4)\n",
    "        print tf.contrib.keras.preprocessing.text.Tokenizer.fit_on_texts(token,line)"
   ]
  },
  {
   "cell_type": "code",
   "execution_count": 57,
   "metadata": {},
   "outputs": [
    {
     "name": "stdout",
     "output_type": "stream",
     "text": [
      "[[ 0.  0.  0.  0.]\n",
      " [ 0.  0.  0.  0.]\n",
      " [ 0.  0.  0.  0.]\n",
      " ..., \n",
      " [ 0.  0.  0.  1.]\n",
      " [ 0.  0.  0.  0.]\n",
      " [ 0.  0.  0.  0.]]\n"
     ]
    }
   ],
   "source": [
    "        print tf.contrib.keras.preprocessing.text.Tokenizer.texts_to_matrix(token,line)"
   ]
  },
  {
   "cell_type": "code",
   "execution_count": 58,
   "metadata": {},
   "outputs": [
    {
     "name": "stdout",
     "output_type": "stream",
     "text": [
      "['if', 'you', 'have', 'ever', 'dreamt', 'of', 'spending', 'a', 'night', 'on', 'a', 'kettuvallum', 'rice', 'barge', 'houseboat', 'cruising', 'the', 'backwaters', 'while', 'an', 'on', 'board', 'chef', 'prepares', 'fresh', 'barbecued', 'fish', 'or', 'a', 'succulent', 'keralan', 'curry', 'you\\xe2\\x80\\x99ve', 'already', 'got', 'the', 'kerala', 'bug', 'but', 'there\\xe2\\x80\\x99s', 'a', 'whole', 'other', 'kerala', 'lying', 'north', 'of', 'kochi', 'that', 'is', 'only', 'just', 'starting', 'to', 'capture', 'travellers\\xe2\\x80\\x99', 'imaginations', 'the', 'beaches', 'backwaters', 'and', 'wildlife', 'sanctuaries', 'in', 'the', 'southern', 'half', 'of', 'the', 'state', 'are', 'now', 'established', 'stops', 'on', 'the', 'traveller', 'trail', 'but', 'those', 'in', 'the', 'know', 'are', 'turning', 'their', 'attention', 'to', 'the', 'north', 'of', 'kerala', 'where', 'the', 'arabian', 'sea', 'beaches', 'are', 'just', 'as', 'gobsmacking', 'the', 'wildlife', 'sanctuaries', 'just', 'as', 'teeming', 'the', 'temple', 'rituals', 'even', 'more', 'mind', 'blowing', 'and', 'the', 'impact', 'of', 'tourism', 'is', 'only', 'just', 'starting', 'to', 'be', 'felt', 'welcome', 'to', 'northern', 'kerala', 'authentically', 'indian', 'and', 'far', 'from', 'the', 'regular', 'tourist', 'trail', 'when', 'people', 'talk', 'about', 'keralan', 'beaches', 'they', 'usually', 'mean', 'kovalam', 'and', 'the', 'clifftop', 'backpacker', 'enclave', 'at', 'varkala', 'both', 'are', 'beloved', 'and', 'lovely', 'but', 'touristy', 'and', 'crammed', 'in', 'the', 'winter', 'season', 'with', 'wall', 'to', 'wall', 'resorts', 'restaurants', 'and', 'souvenir', 'stalls', 'but', 'north', 'of', 'kochi', 'is', 'an', 'interrupted', 'and', 'virtually', 'people', 'free', 'stretch', 'of', 'arabian', 'sea', 'coast', 'just', 'begging', 'to', 'be', 'explored', 'and', 'not', 'a', 'trinket', 'seller', 'in', 'sight']\n"
     ]
    }
   ],
   "source": [
    "        print tf.contrib.keras.preprocessing.text.text_to_word_sequence(line)"
   ]
  },
  {
   "cell_type": "code",
   "execution_count": 59,
   "metadata": {},
   "outputs": [
    {
     "name": "stdout",
     "output_type": "stream",
     "text": [
      "<generator object texts_to_sequences_generator at 0x7fb2f52a0e10>\n"
     ]
    }
   ],
   "source": [
    "        print tf.contrib.keras.preprocessing.text.Tokenizer.texts_to_sequences_generator(token,line)"
   ]
  }
 ],
 "metadata": {
  "kernelspec": {
   "display_name": "Python 2",
   "language": "python",
   "name": "python2"
  },
  "language_info": {
   "codemirror_mode": {
    "name": "ipython",
    "version": 2
   },
   "file_extension": ".py",
   "mimetype": "text/x-python",
   "name": "python",
   "nbconvert_exporter": "python",
   "pygments_lexer": "ipython2",
   "version": "2.7.13"
  }
 },
 "nbformat": 4,
 "nbformat_minor": 2
}
